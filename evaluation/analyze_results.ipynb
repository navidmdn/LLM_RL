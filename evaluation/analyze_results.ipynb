{
 "cells": [
  {
   "cell_type": "markdown",
   "id": "2d3c69c9",
   "metadata": {
    "collapsed": true
   },
   "source": [
    "# load results"
   ]
  },
  {
   "cell_type": "code",
   "execution_count": 38,
   "id": "4f4cae8c",
   "metadata": {},
   "outputs": [
    {
     "data": {
      "text/plain": [
       "{'id': 0,\n",
       " 'problem': \"Janet’s ducks lay 16 eggs per day. She eats three for breakfast every morning and bakes muffins for her friends every day with four. She sells the remainder at the farmers' market daily for $2 per fresh duck egg. How much in dollars does she make every day at the farmers' market?\",\n",
       " 'solution': 'Janet sells 16 - 3 - 4 = <<16-3-4=9>>9 duck eggs a day.\\nShe makes 9 * 2 = $<<9*2=18>>18 every day at the farmer’s market.\\nThe answer is: 18',\n",
       " 'generated_solution': ' \\nJanet lays 16 eggs per day and she eats 3 for breakfast, so she has 16 - 3 = 13 eggs left for the market each day.\\nShe sells 13 eggs at the market and makes 13 x 2 = $26 from the eggs. \\nThe answer is: 26.'}"
      ]
     },
     "execution_count": 38,
     "metadata": {},
     "output_type": "execute_result"
    }
   ],
   "source": [
    "import json\n",
    "\n",
    "\n",
    "def load_jsonl(file_path: str) -> list:\n",
    "    assert file_path.endswith('.jsonl') or file_path.endswith('.json')\n",
    "    data = []\n",
    "    with open(file_path, 'r') as f:\n",
    "        for line in f:\n",
    "            data.append(json.loads(line))\n",
    "    return data\n",
    "\n",
    "results = load_jsonl('./output/l1b_ft_test.json')\n",
    "results[0]"
   ]
  },
  {
   "cell_type": "code",
   "execution_count": 39,
   "id": "22c19b3d",
   "metadata": {},
   "outputs": [
    {
     "data": {
      "text/plain": [
       "0.17437452615617893"
      ]
     },
     "execution_count": 39,
     "metadata": {},
     "output_type": "execute_result"
    }
   ],
   "source": [
    "import re\n",
    "\n",
    "def get_aug_answer(full_answer):\n",
    "    full_answer = full_answer.lower()\n",
    "    idx = full_answer.rfind(\"the answer is\")\n",
    "    if idx == -1:\n",
    "        return None\n",
    "    else:\n",
    "        answer = full_answer[idx + len(\"the answer is: \"):]\n",
    "        answer = answer.replace(\":\", \"\").replace(\"$\", \"\").strip()\n",
    "        if len(answer)> 0:\n",
    "            if answer[-1] == \".\":\n",
    "                answer = answer[:-1]\n",
    "            left = \"\\\\boxed{\"\n",
    "            if answer[:len(left)] == left and answer[-1] == \"}\":\n",
    "                answer = answer[len(left):-1]\n",
    "        return answer.replace(\",\", \"\")\n",
    "\n",
    "\n",
    "def calculate_acc(responses, gt_solutions):\n",
    "    correct = 0\n",
    "    total = len(gt_solutions)\n",
    "    \n",
    "    for resp, sol in zip(responses, gt_solutions):\n",
    "        gt_final_solution = get_aug_answer(sol)\n",
    "        response_final_solution = get_aug_answer(resp)\n",
    "        \n",
    "        if response_final_solution is None:\n",
    "            continue\n",
    "\n",
    "        if response_final_solution == gt_final_solution:\n",
    "            correct += 1\n",
    "                \n",
    "            \n",
    "\n",
    "    return correct / total\n",
    "\n",
    "calculate_acc([r['generated_solution'] for r in results], [r['solution'] for r in results])"
   ]
  }
 ],
 "metadata": {
  "kernelspec": {
   "display_name": "Python 3 (ipykernel)",
   "language": "python",
   "name": "python3"
  },
  "language_info": {
   "codemirror_mode": {
    "name": "ipython",
    "version": 3
   },
   "file_extension": ".py",
   "mimetype": "text/x-python",
   "name": "python",
   "nbconvert_exporter": "python",
   "pygments_lexer": "ipython3",
   "version": "3.10.11"
  },
  "toc": {
   "base_numbering": 1,
   "nav_menu": {},
   "number_sections": true,
   "sideBar": true,
   "skip_h1_title": false,
   "title_cell": "Table of Contents",
   "title_sidebar": "Contents",
   "toc_cell": false,
   "toc_position": {},
   "toc_section_display": true,
   "toc_window_display": false
  }
 },
 "nbformat": 4,
 "nbformat_minor": 5
}
